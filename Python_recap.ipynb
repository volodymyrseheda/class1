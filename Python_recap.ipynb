{
 "cells": [
  {
   "cell_type": "markdown",
   "metadata": {
    "collapsed": true
   },
   "source": [
    "## Priklady 1"
   ]
  },
  {
   "cell_type": "markdown",
   "metadata": {},
   "source": [
    "## Numbers\n",
    "Napiste rovnicu za pouzitia nasobenia, delenia, umocnenia, scitavania a odcitavania aby bol vysledok rovny 100.25"
   ]
  },
  {
   "cell_type": "code",
   "execution_count": null,
   "metadata": {
    "collapsed": true
   },
   "outputs": [
    {
     "name": "stdout",
     "output_type": "stream",
     "text": [
      "300\n",
      "150.0\n",
      "10.0\n",
      "100.0\n",
      "100.25\n",
      "Výsledok rovnice je: 100.25 tut 100.25\n"
     ]
    }
   ],
   "source": [
    "resulting = ((((50*6)/2)-140)**2)+0.25\n",
    "print(\"Výsledok rovnice je:\", resulting)"
   ]
  },
  {
   "cell_type": "markdown",
   "metadata": {},
   "source": [
    "Zapiste vysledky tychto tvrdeni, nasledne otestujete v kode.\n",
    "\n",
    "    What is the value of the expression 4 * (6 + 5)\n",
    "    \n",
    "    What is the value of the expression 4 * 6 + 5 \n",
    "    \n",
    "    What is the value of the expression 4 + 6 * 5 "
   ]
  },
  {
   "cell_type": "code",
   "execution_count": 7,
   "metadata": {
    "collapsed": true
   },
   "outputs": [
    {
     "name": "stdout",
     "output_type": "stream",
     "text": [
      "4 * (6 + 5) = 44\n",
      "4 * 6 + 5 = 29\n",
      "4 + 6 * 5 = 34\n"
     ]
    }
   ],
   "source": [
    "# Definovanie výrazov\n",
    "expr1 = 4 * (6 + 5)\n",
    "expr2 = 4 * 6 + 5\n",
    "expr3 = 4 + 6 * 5\n",
    "\n",
    "# Výpis výsledkov\n",
    "print(\"4 * (6 + 5) =\", expr1)\n",
    "print(\"4 * 6 + 5 =\", expr2)\n",
    "print(\"4 + 6 * 5 =\", expr3)"
   ]
  },
  {
   "cell_type": "markdown",
   "metadata": {},
   "source": [
    "Aky datovy typ je vysledkom tohto vyrazu? 3 + 1.5 + 4?<br><br>"
   ]
  },
  {
   "cell_type": "markdown",
   "metadata": {},
   "source": [
    "#Float"
   ]
  },
  {
   "cell_type": "markdown",
   "metadata": {},
   "source": [
    "Ako by ste vypocitaly 2 mocninu a odmocninu cisla 16 ? "
   ]
  },
  {
   "cell_type": "code",
   "execution_count": null,
   "metadata": {
    "collapsed": true
   },
   "outputs": [
    {
     "name": "stdout",
     "output_type": "stream",
     "text": [
      "256\n"
     ]
    }
   ],
   "source": [
    "# Square root:\n",
    "square = 16 ** 2\n",
    "print(square)"
   ]
  },
  {
   "cell_type": "code",
   "execution_count": 5,
   "metadata": {
    "collapsed": true
   },
   "outputs": [
    {
     "name": "stdout",
     "output_type": "stream",
     "text": [
      "4.0\n"
     ]
    }
   ],
   "source": [
    "# Square:\n",
    "square_root = 16 ** 0.5\n",
    "print(square_root)"
   ]
  },
  {
   "cell_type": "markdown",
   "metadata": {},
   "source": [
    "## Retazec - Strings"
   ]
  },
  {
   "cell_type": "markdown",
   "metadata": {},
   "source": [
    "Vypiste 'e' zo stringu 'hello'"
   ]
  },
  {
   "cell_type": "code",
   "execution_count": 6,
   "metadata": {
    "collapsed": true
   },
   "outputs": [
    {
     "name": "stdout",
     "output_type": "stream",
     "text": [
      "e\n"
     ]
    }
   ],
   "source": [
    "s = 'hello'\n",
    "print(s[1])\n",
    "\n",
    "# Print out 'e' using indexing\n",
    "\n",
    "\n"
   ]
  },
  {
   "cell_type": "markdown",
   "metadata": {},
   "source": [
    "## Zoznam/pole - Lists/arrays"
   ]
  },
  {
   "cell_type": "markdown",
   "metadata": {},
   "source": [
    "Vytvorte list [0,0,0] ."
   ]
  },
  {
   "cell_type": "code",
   "execution_count": 44,
   "metadata": {
    "collapsed": true
   },
   "outputs": [
    {
     "name": "stdout",
     "output_type": "stream",
     "text": [
      "[0, 0, 0]\n"
     ]
    }
   ],
   "source": [
    "# Method :\n",
    "list = [0,0,0]\n",
    "print(list)\n",
    "\n",
    "\n"
   ]
  },
  {
   "cell_type": "markdown",
   "metadata": {},
   "source": [
    "Vytvorte pole [1,1,1] pomocou kniznice numpy."
   ]
  },
  {
   "cell_type": "code",
   "execution_count": 45,
   "metadata": {
    "collapsed": true
   },
   "outputs": [
    {
     "name": "stdout",
     "output_type": "stream",
     "text": [
      "[1 1 1]\n"
     ]
    }
   ],
   "source": [
    "# Method 2:\n",
    "import numpy as np\n",
    "array = np.ones(3, dtype=int)\n",
    "print(array)\n",
    "\n"
   ]
  },
  {
   "cell_type": "markdown",
   "metadata": {},
   "source": [
    "Zoradte hodnoty v list4"
   ]
  },
  {
   "cell_type": "code",
   "execution_count": 46,
   "metadata": {
    "collapsed": true
   },
   "outputs": [
    {
     "name": "stdout",
     "output_type": "stream",
     "text": [
      "[1, 3, 4, 5, 6]\n"
     ]
    }
   ],
   "source": [
    "list4 = [5,3,4,6,1]\n",
    "list4.sort()\n",
    "print(list4)\n"
   ]
  },
  {
   "cell_type": "markdown",
   "metadata": {},
   "source": [
    "## Slovniky Dictionaries"
   ]
  },
  {
   "cell_type": "markdown",
   "metadata": {},
   "source": [
    "Pomocou kluca vypiste 'hello' z nasledujuceho slovnika(dictionary):"
   ]
  },
  {
   "cell_type": "code",
   "execution_count": 47,
   "metadata": {
    "collapsed": true
   },
   "outputs": [
    {
     "name": "stdout",
     "output_type": "stream",
     "text": [
      "hello\n"
     ]
    }
   ],
   "source": [
    "d = {'simple_key':'hello'}\n",
    "# Grab 'hello'\n",
    "print(d['simple_key'])\n"
   ]
  },
  {
   "cell_type": "code",
   "execution_count": 48,
   "metadata": {
    "collapsed": true
   },
   "outputs": [
    {
     "name": "stdout",
     "output_type": "stream",
     "text": [
      "hello\n"
     ]
    }
   ],
   "source": [
    "d = {'k1':{'k2':'hello'}}\n",
    "# Grab 'hello'\n",
    "print(d['k1']['k2'])\n",
    "\n"
   ]
  },
  {
   "cell_type": "markdown",
   "metadata": {},
   "source": [
    "## Booleans"
   ]
  },
  {
   "cell_type": "markdown",
   "metadata": {},
   "source": [
    "Porovnavanie, a=3 and b=4.\n",
    "\n",
    "<table class=\"table table-bordered\">\n",
    "<tr>\n",
    "<th style=\"width:10%\">Operator</th><th style=\"width:45%\">Description</th><th>Example</th>\n",
    "</tr>\n",
    "<tr>\n",
    "<td>==</td>\n",
    "<td>If the values of two operands are equal, then the condition becomes true.</td>\n",
    "<td> (a == b) is not true.</td>\n",
    "</tr>\n",
    "<tr>\n",
    "<td>!=</td>\n",
    "<td>If values of two operands are not equal, then condition becomes true.</td>\n",
    "<td> (a != b) is true.</td>\n",
    "</tr>\n",
    "<tr>\n",
    "<td>&gt;</td>\n",
    "<td>If the value of left operand is greater than the value of right operand, then condition becomes true.</td>\n",
    "<td> (a &gt; b) is not true.</td>\n",
    "</tr>\n",
    "<tr>\n",
    "<td>&lt;</td>\n",
    "<td>If the value of left operand is less than the value of right operand, then condition becomes true.</td>\n",
    "<td> (a &lt; b) is true.</td>\n",
    "</tr>\n",
    "<tr>\n",
    "<td>&gt;=</td>\n",
    "<td>If the value of left operand is greater than or equal to the value of right operand, then condition becomes true.</td>\n",
    "<td> (a &gt;= b) is not true. </td>\n",
    "</tr>\n",
    "<tr>\n",
    "<td>&lt;=</td>\n",
    "<td>If the value of left operand is less than or equal to the value of right operand, then condition becomes true.</td>\n",
    "<td> (a &lt;= b) is true. </td>\n",
    "</tr>\n",
    "</table>"
   ]
  },
  {
   "cell_type": "markdown",
   "metadata": {},
   "source": [
    "What will be the resulting Boolean of the following pieces of code (answer fist then check by typing it in!)"
   ]
  },
  {
   "cell_type": "code",
   "execution_count": null,
   "metadata": {
    "collapsed": true
   },
   "outputs": [],
   "source": [
    "# Answer before running cell\n",
    "2 > 3\n",
    "# False"
   ]
  },
  {
   "cell_type": "code",
   "execution_count": null,
   "metadata": {
    "collapsed": true
   },
   "outputs": [],
   "source": [
    "# Answer before running cell\n",
    "3 <= 2\n",
    "# False"
   ]
  },
  {
   "cell_type": "code",
   "execution_count": null,
   "metadata": {
    "collapsed": true
   },
   "outputs": [],
   "source": [
    "# Answer before running cell\n",
    "3 == 2.0\n",
    "# False"
   ]
  },
  {
   "cell_type": "code",
   "execution_count": null,
   "metadata": {
    "collapsed": true
   },
   "outputs": [],
   "source": [
    "# Answer before running cell\n",
    "3.0 == 3\n",
    "# True"
   ]
  },
  {
   "cell_type": "code",
   "execution_count": null,
   "metadata": {
    "collapsed": true
   },
   "outputs": [],
   "source": [
    "# Answer before running cell\n",
    "4**0.5 != 2\n",
    "# False"
   ]
  },
  {
   "cell_type": "markdown",
   "metadata": {},
   "source": [
    "# Metody/funcie/cykly"
   ]
  },
  {
   "cell_type": "markdown",
   "metadata": {},
   "source": [
    "Napiste funkciu, ktora vrati mensie z 2 cisel ak su obe parne a vacsie ak nie."
   ]
  },
  {
   "cell_type": "code",
   "execution_count": null,
   "metadata": {},
   "outputs": [],
   "source": [
    "# Kod\n",
    "def custom_compare(a, b):\n",
    "    # Ak sú obe čísla párne, vráti menšie z nich\n",
    "    if a % 2 == 0 and b % 2 == 0:\n",
    "        return min(a, b)\n",
    "    # Ak aspoň jedno číslo je nepárne, vráti väčšie z nich\n",
    "    else:\n",
    "        return max(a, b)\n",
    "\n",
    "# Testovanie funkcie\n",
    "print(custom_compare(4, 8))  # Obe párne, vráti 4\n",
    "print(custom_compare(3, 7))  # Obe nepárne, vráti 7\n",
    "print(custom_compare(2, 9))  # Jedno párne, jedno nepárne, vráti 9"
   ]
  },
  {
   "cell_type": "markdown",
   "metadata": {},
   "source": [
    "Napiste funkciu, ktora vrati True ak je sucet 2 zadanych cisel 30 alebo je jedno cislo 30, inak vrati False."
   ]
  },
  {
   "cell_type": "code",
   "execution_count": null,
   "metadata": {},
   "outputs": [],
   "source": [
    "#kod\n",
    "def check_thirty(a, b):\n",
    "    return a == 30 or b == 30 or (a + b) == 30\n",
    "\n",
    "# Testovanie funkcie\n",
    "print(check_thirty(30, 10))  # True (prvé číslo je 30)\n",
    "print(check_thirty(15, 15))  # True (súčet je 30)\n",
    "print(check_thirty(10, 5))   # False (ani jedno číslo nie je 30, súčet nie je 30)\n",
    "print(check_thirty(0, 30))   # True (druhé číslo je 30)\n"
   ]
  },
  {
   "cell_type": "markdown",
   "metadata": {},
   "source": [
    "Napiste funkciu ktora vrati True ak je zadane cislo vzdialene od cisla 100 alebo 200 maximalne o 10 ."
   ]
  },
  {
   "cell_type": "code",
   "execution_count": null,
   "metadata": {},
   "outputs": [],
   "source": [
    "#Kod\n",
    "def close_to_100_or_200(n):\n",
    "    return abs(100 - n) <= 10 or abs(200 - n) <= 10\n",
    "\n",
    "# Testovanie funkcie\n",
    "print(close_to_100_or_200(95))   # True (95 je o 5 od 100)\n",
    "print(close_to_100_or_200(90))   # True (90 je o 10 od 100)\n",
    "print(close_to_100_or_200(89))   # False (89 je o 11 od 100)\n",
    "print(close_to_100_or_200(210))  # True (210 je o 10 od 200)\n",
    "print(close_to_100_or_200(180))  # False (180 je o 20 od 200)\n",
    "\n"
   ]
  },
  {
   "cell_type": "markdown",
   "metadata": {},
   "source": [
    "Napiste funkciu kde su zadane 3 cisla od 1 do 11, ak je ich sucet mensi rovny 21 vrati ich sucet ak je ich sucet vacsi ako 21 vrati ich sucet zmenseny o 10."
   ]
  },
  {
   "cell_type": "code",
   "execution_count": null,
   "metadata": {},
   "outputs": [],
   "source": [
    "#Kod\n",
    "def sum_or_adjust(a, b, c):\n",
    "    total = a + b + c\n",
    "    return total if total <= 21 else total - 10\n",
    "\n",
    "# Testovanie funkcie\n",
    "print(sum_or_adjust(5, 6, 7))  # 18 (menšie ako 21, vráti 18)\n",
    "print(sum_or_adjust(10, 5, 6)) # 21 (rovné 21, vráti 21)\n",
    "print(sum_or_adjust(11, 10, 5))# 26 (väčšie ako 21, vráti 16)\n",
    "print(sum_or_adjust(7, 8, 9))  # 24 (väčšie ako 21, vráti 14)\n"
   ]
  }
 ],
 "metadata": {
  "anaconda-cloud": {},
  "kernelspec": {
   "display_name": "Python 3",
   "language": "python",
   "name": "python3"
  },
  "language_info": {
   "codemirror_mode": {
    "name": "ipython",
    "version": 3
   },
   "file_extension": ".py",
   "mimetype": "text/x-python",
   "name": "python",
   "nbconvert_exporter": "python",
   "pygments_lexer": "ipython3",
   "version": "3.10.12"
  }
 },
 "nbformat": 4,
 "nbformat_minor": 1
}
